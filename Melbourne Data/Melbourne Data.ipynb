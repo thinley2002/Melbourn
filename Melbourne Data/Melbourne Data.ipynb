{
 "cells": [
  {
   "cell_type": "code",
   "execution_count": 1,
   "id": "2cbeebb7-3ed2-4dad-a655-058d32419796",
   "metadata": {
    "tags": []
   },
   "outputs": [],
   "source": [
    "import pandas as pd\n",
    "import numpy as np\n",
    "import matplotlib.pyplot as plt\n",
    "import seaborn as sns"
   ]
  },
  {
   "cell_type": "code",
   "execution_count": 2,
   "id": "2fd5a291-4ed3-4657-b6b7-1a4799d2cb20",
   "metadata": {
    "tags": []
   },
   "outputs": [
    {
     "data": {
      "text/html": [
       "<div>\n",
       "<style scoped>\n",
       "    .dataframe tbody tr th:only-of-type {\n",
       "        vertical-align: middle;\n",
       "    }\n",
       "\n",
       "    .dataframe tbody tr th {\n",
       "        vertical-align: top;\n",
       "    }\n",
       "\n",
       "    .dataframe thead th {\n",
       "        text-align: right;\n",
       "    }\n",
       "</style>\n",
       "<table border=\"1\" class=\"dataframe\">\n",
       "  <thead>\n",
       "    <tr style=\"text-align: right;\">\n",
       "      <th></th>\n",
       "      <th>Suburb</th>\n",
       "      <th>Address</th>\n",
       "      <th>Rooms</th>\n",
       "      <th>Type</th>\n",
       "      <th>Price</th>\n",
       "      <th>Method</th>\n",
       "      <th>SellerG</th>\n",
       "      <th>Date</th>\n",
       "      <th>Distance</th>\n",
       "      <th>Postcode</th>\n",
       "      <th>...</th>\n",
       "      <th>Bathroom</th>\n",
       "      <th>Car</th>\n",
       "      <th>Landsize</th>\n",
       "      <th>BuildingArea</th>\n",
       "      <th>YearBuilt</th>\n",
       "      <th>CouncilArea</th>\n",
       "      <th>Lattitude</th>\n",
       "      <th>Longtitude</th>\n",
       "      <th>Regionname</th>\n",
       "      <th>Propertycount</th>\n",
       "    </tr>\n",
       "  </thead>\n",
       "  <tbody>\n",
       "    <tr>\n",
       "      <th>0</th>\n",
       "      <td>Abbotsford</td>\n",
       "      <td>68 Studley St</td>\n",
       "      <td>2</td>\n",
       "      <td>h</td>\n",
       "      <td>NaN</td>\n",
       "      <td>SS</td>\n",
       "      <td>Jellis</td>\n",
       "      <td>3/09/2016</td>\n",
       "      <td>2.5</td>\n",
       "      <td>3067.0</td>\n",
       "      <td>...</td>\n",
       "      <td>1.0</td>\n",
       "      <td>1.0</td>\n",
       "      <td>126.0</td>\n",
       "      <td>NaN</td>\n",
       "      <td>NaN</td>\n",
       "      <td>Yarra City Council</td>\n",
       "      <td>-37.80140</td>\n",
       "      <td>144.99580</td>\n",
       "      <td>Northern Metropolitan</td>\n",
       "      <td>4019.0</td>\n",
       "    </tr>\n",
       "    <tr>\n",
       "      <th>1</th>\n",
       "      <td>Abbotsford</td>\n",
       "      <td>85 Turner St</td>\n",
       "      <td>2</td>\n",
       "      <td>h</td>\n",
       "      <td>1480000.0</td>\n",
       "      <td>S</td>\n",
       "      <td>Biggin</td>\n",
       "      <td>3/12/2016</td>\n",
       "      <td>2.5</td>\n",
       "      <td>3067.0</td>\n",
       "      <td>...</td>\n",
       "      <td>1.0</td>\n",
       "      <td>1.0</td>\n",
       "      <td>202.0</td>\n",
       "      <td>NaN</td>\n",
       "      <td>NaN</td>\n",
       "      <td>Yarra City Council</td>\n",
       "      <td>-37.79960</td>\n",
       "      <td>144.99840</td>\n",
       "      <td>Northern Metropolitan</td>\n",
       "      <td>4019.0</td>\n",
       "    </tr>\n",
       "    <tr>\n",
       "      <th>2</th>\n",
       "      <td>Abbotsford</td>\n",
       "      <td>25 Bloomburg St</td>\n",
       "      <td>2</td>\n",
       "      <td>h</td>\n",
       "      <td>1035000.0</td>\n",
       "      <td>S</td>\n",
       "      <td>Biggin</td>\n",
       "      <td>4/02/2016</td>\n",
       "      <td>2.5</td>\n",
       "      <td>3067.0</td>\n",
       "      <td>...</td>\n",
       "      <td>1.0</td>\n",
       "      <td>0.0</td>\n",
       "      <td>156.0</td>\n",
       "      <td>79.0</td>\n",
       "      <td>1900.0</td>\n",
       "      <td>Yarra City Council</td>\n",
       "      <td>-37.80790</td>\n",
       "      <td>144.99340</td>\n",
       "      <td>Northern Metropolitan</td>\n",
       "      <td>4019.0</td>\n",
       "    </tr>\n",
       "    <tr>\n",
       "      <th>3</th>\n",
       "      <td>Abbotsford</td>\n",
       "      <td>18/659 Victoria St</td>\n",
       "      <td>3</td>\n",
       "      <td>u</td>\n",
       "      <td>NaN</td>\n",
       "      <td>VB</td>\n",
       "      <td>Rounds</td>\n",
       "      <td>4/02/2016</td>\n",
       "      <td>2.5</td>\n",
       "      <td>3067.0</td>\n",
       "      <td>...</td>\n",
       "      <td>2.0</td>\n",
       "      <td>1.0</td>\n",
       "      <td>0.0</td>\n",
       "      <td>NaN</td>\n",
       "      <td>NaN</td>\n",
       "      <td>Yarra City Council</td>\n",
       "      <td>-37.81140</td>\n",
       "      <td>145.01160</td>\n",
       "      <td>Northern Metropolitan</td>\n",
       "      <td>4019.0</td>\n",
       "    </tr>\n",
       "    <tr>\n",
       "      <th>4</th>\n",
       "      <td>Abbotsford</td>\n",
       "      <td>5 Charles St</td>\n",
       "      <td>3</td>\n",
       "      <td>h</td>\n",
       "      <td>1465000.0</td>\n",
       "      <td>SP</td>\n",
       "      <td>Biggin</td>\n",
       "      <td>4/03/2017</td>\n",
       "      <td>2.5</td>\n",
       "      <td>3067.0</td>\n",
       "      <td>...</td>\n",
       "      <td>2.0</td>\n",
       "      <td>0.0</td>\n",
       "      <td>134.0</td>\n",
       "      <td>150.0</td>\n",
       "      <td>1900.0</td>\n",
       "      <td>Yarra City Council</td>\n",
       "      <td>-37.80930</td>\n",
       "      <td>144.99440</td>\n",
       "      <td>Northern Metropolitan</td>\n",
       "      <td>4019.0</td>\n",
       "    </tr>\n",
       "    <tr>\n",
       "      <th>...</th>\n",
       "      <td>...</td>\n",
       "      <td>...</td>\n",
       "      <td>...</td>\n",
       "      <td>...</td>\n",
       "      <td>...</td>\n",
       "      <td>...</td>\n",
       "      <td>...</td>\n",
       "      <td>...</td>\n",
       "      <td>...</td>\n",
       "      <td>...</td>\n",
       "      <td>...</td>\n",
       "      <td>...</td>\n",
       "      <td>...</td>\n",
       "      <td>...</td>\n",
       "      <td>...</td>\n",
       "      <td>...</td>\n",
       "      <td>...</td>\n",
       "      <td>...</td>\n",
       "      <td>...</td>\n",
       "      <td>...</td>\n",
       "      <td>...</td>\n",
       "    </tr>\n",
       "    <tr>\n",
       "      <th>34852</th>\n",
       "      <td>Yarraville</td>\n",
       "      <td>13 Burns St</td>\n",
       "      <td>4</td>\n",
       "      <td>h</td>\n",
       "      <td>1480000.0</td>\n",
       "      <td>PI</td>\n",
       "      <td>Jas</td>\n",
       "      <td>24/02/2018</td>\n",
       "      <td>6.3</td>\n",
       "      <td>3013.0</td>\n",
       "      <td>...</td>\n",
       "      <td>1.0</td>\n",
       "      <td>3.0</td>\n",
       "      <td>593.0</td>\n",
       "      <td>NaN</td>\n",
       "      <td>NaN</td>\n",
       "      <td>Maribyrnong City Council</td>\n",
       "      <td>-37.81053</td>\n",
       "      <td>144.88467</td>\n",
       "      <td>Western Metropolitan</td>\n",
       "      <td>6543.0</td>\n",
       "    </tr>\n",
       "    <tr>\n",
       "      <th>34853</th>\n",
       "      <td>Yarraville</td>\n",
       "      <td>29A Murray St</td>\n",
       "      <td>2</td>\n",
       "      <td>h</td>\n",
       "      <td>888000.0</td>\n",
       "      <td>SP</td>\n",
       "      <td>Sweeney</td>\n",
       "      <td>24/02/2018</td>\n",
       "      <td>6.3</td>\n",
       "      <td>3013.0</td>\n",
       "      <td>...</td>\n",
       "      <td>2.0</td>\n",
       "      <td>1.0</td>\n",
       "      <td>98.0</td>\n",
       "      <td>104.0</td>\n",
       "      <td>2018.0</td>\n",
       "      <td>Maribyrnong City Council</td>\n",
       "      <td>-37.81551</td>\n",
       "      <td>144.88826</td>\n",
       "      <td>Western Metropolitan</td>\n",
       "      <td>6543.0</td>\n",
       "    </tr>\n",
       "    <tr>\n",
       "      <th>34854</th>\n",
       "      <td>Yarraville</td>\n",
       "      <td>147A Severn St</td>\n",
       "      <td>2</td>\n",
       "      <td>t</td>\n",
       "      <td>705000.0</td>\n",
       "      <td>S</td>\n",
       "      <td>Jas</td>\n",
       "      <td>24/02/2018</td>\n",
       "      <td>6.3</td>\n",
       "      <td>3013.0</td>\n",
       "      <td>...</td>\n",
       "      <td>1.0</td>\n",
       "      <td>2.0</td>\n",
       "      <td>220.0</td>\n",
       "      <td>120.0</td>\n",
       "      <td>2000.0</td>\n",
       "      <td>Maribyrnong City Council</td>\n",
       "      <td>-37.82286</td>\n",
       "      <td>144.87856</td>\n",
       "      <td>Western Metropolitan</td>\n",
       "      <td>6543.0</td>\n",
       "    </tr>\n",
       "    <tr>\n",
       "      <th>34855</th>\n",
       "      <td>Yarraville</td>\n",
       "      <td>12/37 Stephen St</td>\n",
       "      <td>3</td>\n",
       "      <td>h</td>\n",
       "      <td>1140000.0</td>\n",
       "      <td>SP</td>\n",
       "      <td>hockingstuart</td>\n",
       "      <td>24/02/2018</td>\n",
       "      <td>6.3</td>\n",
       "      <td>3013.0</td>\n",
       "      <td>...</td>\n",
       "      <td>NaN</td>\n",
       "      <td>NaN</td>\n",
       "      <td>NaN</td>\n",
       "      <td>NaN</td>\n",
       "      <td>NaN</td>\n",
       "      <td>Maribyrnong City Council</td>\n",
       "      <td>NaN</td>\n",
       "      <td>NaN</td>\n",
       "      <td>Western Metropolitan</td>\n",
       "      <td>6543.0</td>\n",
       "    </tr>\n",
       "    <tr>\n",
       "      <th>34856</th>\n",
       "      <td>Yarraville</td>\n",
       "      <td>3 Tarrengower St</td>\n",
       "      <td>2</td>\n",
       "      <td>h</td>\n",
       "      <td>1020000.0</td>\n",
       "      <td>PI</td>\n",
       "      <td>RW</td>\n",
       "      <td>24/02/2018</td>\n",
       "      <td>6.3</td>\n",
       "      <td>3013.0</td>\n",
       "      <td>...</td>\n",
       "      <td>1.0</td>\n",
       "      <td>0.0</td>\n",
       "      <td>250.0</td>\n",
       "      <td>103.0</td>\n",
       "      <td>1930.0</td>\n",
       "      <td>Maribyrnong City Council</td>\n",
       "      <td>-37.81810</td>\n",
       "      <td>144.89351</td>\n",
       "      <td>Western Metropolitan</td>\n",
       "      <td>6543.0</td>\n",
       "    </tr>\n",
       "  </tbody>\n",
       "</table>\n",
       "<p>34857 rows × 21 columns</p>\n",
       "</div>"
      ],
      "text/plain": [
       "           Suburb             Address  Rooms Type      Price Method  \\\n",
       "0      Abbotsford       68 Studley St      2    h        NaN     SS   \n",
       "1      Abbotsford        85 Turner St      2    h  1480000.0      S   \n",
       "2      Abbotsford     25 Bloomburg St      2    h  1035000.0      S   \n",
       "3      Abbotsford  18/659 Victoria St      3    u        NaN     VB   \n",
       "4      Abbotsford        5 Charles St      3    h  1465000.0     SP   \n",
       "...           ...                 ...    ...  ...        ...    ...   \n",
       "34852  Yarraville         13 Burns St      4    h  1480000.0     PI   \n",
       "34853  Yarraville       29A Murray St      2    h   888000.0     SP   \n",
       "34854  Yarraville      147A Severn St      2    t   705000.0      S   \n",
       "34855  Yarraville    12/37 Stephen St      3    h  1140000.0     SP   \n",
       "34856  Yarraville    3 Tarrengower St      2    h  1020000.0     PI   \n",
       "\n",
       "             SellerG        Date  Distance  Postcode  ...  Bathroom  Car  \\\n",
       "0             Jellis   3/09/2016       2.5    3067.0  ...       1.0  1.0   \n",
       "1             Biggin   3/12/2016       2.5    3067.0  ...       1.0  1.0   \n",
       "2             Biggin   4/02/2016       2.5    3067.0  ...       1.0  0.0   \n",
       "3             Rounds   4/02/2016       2.5    3067.0  ...       2.0  1.0   \n",
       "4             Biggin   4/03/2017       2.5    3067.0  ...       2.0  0.0   \n",
       "...              ...         ...       ...       ...  ...       ...  ...   \n",
       "34852            Jas  24/02/2018       6.3    3013.0  ...       1.0  3.0   \n",
       "34853        Sweeney  24/02/2018       6.3    3013.0  ...       2.0  1.0   \n",
       "34854            Jas  24/02/2018       6.3    3013.0  ...       1.0  2.0   \n",
       "34855  hockingstuart  24/02/2018       6.3    3013.0  ...       NaN  NaN   \n",
       "34856             RW  24/02/2018       6.3    3013.0  ...       1.0  0.0   \n",
       "\n",
       "       Landsize  BuildingArea  YearBuilt               CouncilArea Lattitude  \\\n",
       "0         126.0           NaN        NaN        Yarra City Council -37.80140   \n",
       "1         202.0           NaN        NaN        Yarra City Council -37.79960   \n",
       "2         156.0          79.0     1900.0        Yarra City Council -37.80790   \n",
       "3           0.0           NaN        NaN        Yarra City Council -37.81140   \n",
       "4         134.0         150.0     1900.0        Yarra City Council -37.80930   \n",
       "...         ...           ...        ...                       ...       ...   \n",
       "34852     593.0           NaN        NaN  Maribyrnong City Council -37.81053   \n",
       "34853      98.0         104.0     2018.0  Maribyrnong City Council -37.81551   \n",
       "34854     220.0         120.0     2000.0  Maribyrnong City Council -37.82286   \n",
       "34855       NaN           NaN        NaN  Maribyrnong City Council       NaN   \n",
       "34856     250.0         103.0     1930.0  Maribyrnong City Council -37.81810   \n",
       "\n",
       "       Longtitude             Regionname Propertycount  \n",
       "0       144.99580  Northern Metropolitan        4019.0  \n",
       "1       144.99840  Northern Metropolitan        4019.0  \n",
       "2       144.99340  Northern Metropolitan        4019.0  \n",
       "3       145.01160  Northern Metropolitan        4019.0  \n",
       "4       144.99440  Northern Metropolitan        4019.0  \n",
       "...           ...                    ...           ...  \n",
       "34852   144.88467   Western Metropolitan        6543.0  \n",
       "34853   144.88826   Western Metropolitan        6543.0  \n",
       "34854   144.87856   Western Metropolitan        6543.0  \n",
       "34855         NaN   Western Metropolitan        6543.0  \n",
       "34856   144.89351   Western Metropolitan        6543.0  \n",
       "\n",
       "[34857 rows x 21 columns]"
      ]
     },
     "execution_count": 2,
     "metadata": {},
     "output_type": "execute_result"
    }
   ],
   "source": [
    "df=pd.read_csv('Melbourne_housing_FULL.csv')\n",
    "df"
   ]
  },
  {
   "cell_type": "code",
   "execution_count": 3,
   "id": "61ff8c35-c334-4981-8c14-9aa261a8a842",
   "metadata": {
    "tags": []
   },
   "outputs": [
    {
     "data": {
      "text/plain": [
       "388"
      ]
     },
     "execution_count": 3,
     "metadata": {},
     "output_type": "execute_result"
    }
   ],
   "source": [
    "df['SellerG'].nunique()"
   ]
  },
  {
   "cell_type": "code",
   "execution_count": 4,
   "id": "2899c9fd-a40d-4ce7-9541-4a002959c74f",
   "metadata": {
    "tags": []
   },
   "outputs": [
    {
     "data": {
      "text/plain": [
       "SellerG\n",
       "Jellis             3359\n",
       "Nelson             3236\n",
       "Barry              3235\n",
       "hockingstuart      2623\n",
       "Marshall           2027\n",
       "                   ... \n",
       "Clairmont             1\n",
       "Buxton/Find           1\n",
       "Harcourts/Barry       1\n",
       "Silver                1\n",
       "Methven               1\n",
       "Name: count, Length: 388, dtype: int64"
      ]
     },
     "execution_count": 4,
     "metadata": {},
     "output_type": "execute_result"
    }
   ],
   "source": [
    "df['SellerG'].value_counts()"
   ]
  },
  {
   "cell_type": "code",
   "execution_count": 5,
   "id": "33d461bc-be03-4b3e-ae89-6745bd0cfb98",
   "metadata": {
    "tags": []
   },
   "outputs": [
    {
     "data": {
      "text/plain": [
       "731997"
      ]
     },
     "execution_count": 5,
     "metadata": {},
     "output_type": "execute_result"
    }
   ],
   "source": [
    "df.size"
   ]
  },
  {
   "cell_type": "code",
   "execution_count": 6,
   "id": "611f896e-044e-4ce8-bfb1-e3804f4f7fcf",
   "metadata": {
    "tags": []
   },
   "outputs": [
    {
     "data": {
      "text/plain": [
       "Index(['Suburb', 'Address', 'Rooms', 'Type', 'Price', 'Method', 'SellerG',\n",
       "       'Date', 'Distance', 'Postcode', 'Bedroom2', 'Bathroom', 'Car',\n",
       "       'Landsize', 'BuildingArea', 'YearBuilt', 'CouncilArea', 'Lattitude',\n",
       "       'Longtitude', 'Regionname', 'Propertycount'],\n",
       "      dtype='object')"
      ]
     },
     "execution_count": 6,
     "metadata": {},
     "output_type": "execute_result"
    }
   ],
   "source": [
    "df.columns"
   ]
  },
  {
   "cell_type": "code",
   "execution_count": 7,
   "id": "dbb2b753-ff63-452f-af83-eb079278c279",
   "metadata": {
    "tags": []
   },
   "outputs": [
    {
     "data": {
      "text/plain": [
       "(34857, 21)"
      ]
     },
     "execution_count": 7,
     "metadata": {},
     "output_type": "execute_result"
    }
   ],
   "source": [
    "df.shape"
   ]
  },
  {
   "cell_type": "code",
   "execution_count": 8,
   "id": "b25aa39e-163a-4515-8318-85e35d7df828",
   "metadata": {},
   "outputs": [
    {
     "name": "stdout",
     "output_type": "stream",
     "text": [
      "<class 'pandas.core.frame.DataFrame'>\n",
      "RangeIndex: 34857 entries, 0 to 34856\n",
      "Data columns (total 21 columns):\n",
      " #   Column         Non-Null Count  Dtype  \n",
      "---  ------         --------------  -----  \n",
      " 0   Suburb         34857 non-null  object \n",
      " 1   Address        34857 non-null  object \n",
      " 2   Rooms          34857 non-null  int64  \n",
      " 3   Type           34857 non-null  object \n",
      " 4   Price          27247 non-null  float64\n",
      " 5   Method         34857 non-null  object \n",
      " 6   SellerG        34857 non-null  object \n",
      " 7   Date           34857 non-null  object \n",
      " 8   Distance       34856 non-null  float64\n",
      " 9   Postcode       34856 non-null  float64\n",
      " 10  Bedroom2       26640 non-null  float64\n",
      " 11  Bathroom       26631 non-null  float64\n",
      " 12  Car            26129 non-null  float64\n",
      " 13  Landsize       23047 non-null  float64\n",
      " 14  BuildingArea   13742 non-null  float64\n",
      " 15  YearBuilt      15551 non-null  float64\n",
      " 16  CouncilArea    34854 non-null  object \n",
      " 17  Lattitude      26881 non-null  float64\n",
      " 18  Longtitude     26881 non-null  float64\n",
      " 19  Regionname     34854 non-null  object \n",
      " 20  Propertycount  34854 non-null  float64\n",
      "dtypes: float64(12), int64(1), object(8)\n",
      "memory usage: 5.6+ MB\n"
     ]
    }
   ],
   "source": [
    "df.info()"
   ]
  },
  {
   "cell_type": "code",
   "execution_count": 9,
   "id": "a645a944-37da-4ed5-b9e4-769c39719894",
   "metadata": {},
   "outputs": [],
   "source": [
    "cols_to_use=['Suburb', 'Rooms', 'Type','Method', 'SellerG','Distance', 'Bedroom2', 'Bathroom', \n",
    "             'Car','Landsize', 'BuildingArea', 'Regionname', 'Propertycount','Price']\n",
    "\n",
    "dataset=df[cols_to_use]"
   ]
  },
  {
   "cell_type": "markdown",
   "id": "90210603-f3a0-46df-9ab9-f2daafe09362",
   "metadata": {},
   "source": [
    "## Missing Values\n",
    "* For specific columns ('Distance', 'Bedroom2', 'Bathroom', 'Car', 'Propertycount'), missing values are filled with zeroes.\r",
    "* \n",
    "For the 'Landsize' and 'BuildingArea' columns, missing values arereplaced  with the mean."
   ]
  },
  {
   "cell_type": "code",
   "execution_count": 10,
   "id": "0074802d-fbd5-49f4-82d2-b87217835fba",
   "metadata": {
    "tags": []
   },
   "outputs": [
    {
     "data": {
      "text/plain": [
       "Suburb               0\n",
       "Rooms                0\n",
       "Type                 0\n",
       "Method               0\n",
       "SellerG              0\n",
       "Distance             1\n",
       "Bedroom2          8217\n",
       "Bathroom          8226\n",
       "Car               8728\n",
       "Landsize         11810\n",
       "BuildingArea     21115\n",
       "Regionname           3\n",
       "Propertycount        3\n",
       "Price             7610\n",
       "dtype: int64"
      ]
     },
     "execution_count": 10,
     "metadata": {},
     "output_type": "execute_result"
    }
   ],
   "source": [
    "dataset.isnull().sum()"
   ]
  },
  {
   "cell_type": "raw",
   "id": "3cc9ba7e-bf12-4c23-9ba5-4c5eacecfcd6",
   "metadata": {},
   "source": [
    "import warnings\n",
    "warnings.filterwarnings('ignore')"
   ]
  },
  {
   "cell_type": "code",
   "execution_count": 11,
   "id": "4b5ab3d5-83d2-4b51-9622-53d8934fb8da",
   "metadata": {
    "tags": []
   },
   "outputs": [],
   "source": [
    "import warnings\n",
    "warnings.filterwarnings('ignore')\n",
    "\n",
    "cols_to_fill_zero=[ 'Distance','Bedroom2', 'Bathroom', 'Car', 'Propertycount']\n",
    "dataset[cols_to_fill_zero]= dataset[cols_to_fill_zero].fillna(0)\n",
    "\n",
    "dataset['Landsize']=dataset['Landsize'].fillna(dataset.Landsize.mean())\n",
    "dataset['BuildingArea']=dataset['BuildingArea'].fillna(dataset.BuildingArea.mean())"
   ]
  },
  {
   "cell_type": "code",
   "execution_count": 12,
   "id": "aeb476b2-19aa-43f0-ae4b-e211d3eca3db",
   "metadata": {
    "tags": []
   },
   "outputs": [],
   "source": [
    "dataset.dropna(inplace=True)"
   ]
  },
  {
   "cell_type": "code",
   "execution_count": 13,
   "id": "68199908-1f23-4b9c-b7da-a53d4231fba5",
   "metadata": {
    "tags": []
   },
   "outputs": [
    {
     "data": {
      "text/plain": [
       "(27244, 14)"
      ]
     },
     "execution_count": 13,
     "metadata": {},
     "output_type": "execute_result"
    }
   ],
   "source": [
    "dataset.shape"
   ]
  },
  {
   "cell_type": "code",
   "execution_count": 14,
   "id": "ca03fd32-4874-46aa-9e2b-8a80dbf1f028",
   "metadata": {
    "tags": []
   },
   "outputs": [
    {
     "data": {
      "text/plain": [
       "Suburb           0\n",
       "Rooms            0\n",
       "Type             0\n",
       "Method           0\n",
       "SellerG          0\n",
       "Distance         0\n",
       "Bedroom2         0\n",
       "Bathroom         0\n",
       "Car              0\n",
       "Landsize         0\n",
       "BuildingArea     0\n",
       "Regionname       0\n",
       "Propertycount    0\n",
       "Price            0\n",
       "dtype: int64"
      ]
     },
     "execution_count": 14,
     "metadata": {},
     "output_type": "execute_result"
    }
   ],
   "source": [
    "dataset.isnull().sum()"
   ]
  },
  {
   "cell_type": "markdown",
   "id": "e72bf263-03a9-44ef-9ac9-91929b4ba79d",
   "metadata": {},
   "source": [
    "## Outliers Handling\n",
    "1. i have choose one column\n",
    "2. then i have found lower and upper outliers\n",
    "   \n",
    "        * lower_outliers=Q1-1.5*(IQR)\n",
    "        * upper_outlier = Q3+1.5*(IQR)\n",
    "4. with the help of box plox i have checked whether the outliers has been removed or not\n",
    "5. with the help of IQR Method i have removed outliers of all the columns\n",
    "   \n",
    "         * IQR=Q3-Q1"
   ]
  },
  {
   "cell_type": "code",
   "execution_count": 15,
   "id": "1dfb415f-08f6-40a5-80e8-5e9a37f30a95",
   "metadata": {
    "tags": []
   },
   "outputs": [
    {
     "name": "stdout",
     "output_type": "stream",
     "text": [
      "1st quartile = 2.0 \n",
      "3rd quartile range = 4.0 \n",
      "inter quartile range =2.0\n"
     ]
    }
   ],
   "source": [
    "from scipy import stats\n",
    "\n",
    "Q1=df['Rooms'].quantile(q=0.25)\n",
    "Q3=df['Rooms'].quantile(q=0.75)\n",
    "IQR=Q3-Q1\n",
    "    \n",
    "print('1st quartile = {} \\n3rd quartile range = {} \\ninter quartile range ={}'.format(Q1,Q3,stats.iqr(df['Rooms'])))"
   ]
  },
  {
   "cell_type": "code",
   "execution_count": 16,
   "id": "0d008454-7c03-4bf9-a56f-4f863f768feb",
   "metadata": {},
   "outputs": [
    {
     "name": "stdout",
     "output_type": "stream",
     "text": [
      "lower outlier =  -1.0\n",
      "upper outlier =  7.0\n"
     ]
    }
   ],
   "source": [
    "lower_outlier = Q1-1.5*(IQR)\n",
    "upper_outlier = Q3+1.5*(IQR)\n",
    "\n",
    "print('lower outlier = ', lower_outlier)\n",
    "print('upper outlier = ', upper_outlier)"
   ]
  },
  {
   "cell_type": "code",
   "execution_count": 17,
   "id": "36dc8656-a5f9-4a55-bc4d-0c5e6418bf33",
   "metadata": {},
   "outputs": [
    {
     "name": "stdout",
     "output_type": "stream",
     "text": [
      "Number of upper outlier =  23\n",
      "Number of lower outlier =  0\n"
     ]
    }
   ],
   "source": [
    "print('Number of upper outlier = ', \n",
    "      dataset[dataset['Rooms']>upper_outlier]['Rooms'].count())\n",
    "print('Number of lower outlier = ', \n",
    "      dataset[dataset['Rooms']<lower_outlier]['Rooms'].count())"
   ]
  },
  {
   "cell_type": "code",
   "execution_count": 18,
   "id": "826334cb-2376-47f6-b893-8989d111e4e0",
   "metadata": {},
   "outputs": [],
   "source": [
    "dataset.loc[(dataset['Rooms']<lower_outlier) | (dataset['Rooms']>upper_outlier),\n",
    "['Rooms']] = dataset['Rooms'].median()"
   ]
  },
  {
   "cell_type": "code",
   "execution_count": 19,
   "id": "0703fdca-d949-4e1f-b501-1b452c4487d1",
   "metadata": {},
   "outputs": [
    {
     "name": "stdout",
     "output_type": "stream",
     "text": [
      "Number of upper outlier =  0\n",
      "Number of lower outlier =  0\n"
     ]
    }
   ],
   "source": [
    "print('Number of upper outlier = ',dataset[dataset['Rooms']>upper_outlier]['Rooms'].count())\n",
    "print('Number of lower outlier = ',dataset[dataset['Rooms']<lower_outlier]['Rooms'].count())"
   ]
  },
  {
   "cell_type": "code",
   "execution_count": 20,
   "id": "ece70419-7159-4b51-85a3-118e0a96ad6e",
   "metadata": {},
   "outputs": [
    {
     "data": {
      "text/plain": [
       "<Axes: xlabel='Rooms'>"
      ]
     },
     "execution_count": 20,
     "metadata": {},
     "output_type": "execute_result"
    },
    {
     "data": {
      "image/png": "[encoded data removed]",
      "text/plain": [
       "<Figure size 800x400 with 1 Axes>"
      ]
     },
     "metadata": {},
     "output_type": "display_data"
    }
   ],
   "source": [
    "import seaborn as sns\n",
    "plt.figure(figsize=(8,4))\n",
    "sns.boxplot(x='Rooms', data=dataset,)"
   ]
  },
  {
   "cell_type": "code",
   "execution_count": 21,
   "id": "c59589f7-f4e8-48ac-877b-cd296f777757",
   "metadata": {},
   "outputs": [],
   "source": [
    "for cols in dataset.columns[:-1]:\n",
    "    if dataset[cols].dtype==object:\n",
    "        continue\n",
    "    else:\n",
    "        Q1=dataset[cols].quantile(q=0.25)\n",
    "        Q3=dataset[cols].quantile(q=0.75)\n",
    "        IQR=Q3-Q1\n",
    "    \n",
    "        low=Q1-1.5*(IQR)\n",
    "        high=Q3+1.5*(IQR)\n",
    "        dataset.loc[(dataset[cols]<low)|(dataset[cols]>high),cols] = dataset[cols].median()"
   ]
  },
  {
   "cell_type": "code",
   "execution_count": 22,
   "id": "7294c494-4f05-4216-b1fe-0af086d7178c",
   "metadata": {},
   "outputs": [
    {
     "data": {
      "text/plain": [
       "<Axes: xlabel='BuildingArea'>"
      ]
     },
     "execution_count": 22,
     "metadata": {},
     "output_type": "execute_result"
    },
    {
     "data": {
      "image/png": "[encoded data removed]",
      "text/plain": [
       "<Figure size 800x400 with 1 Axes>"
      ]
     },
     "metadata": {},
     "output_type": "display_data"
    }
   ],
   "source": [
    "plt.figure(figsize =(8,4))\n",
    "sns.boxplot(x='BuildingArea', data= dataset, orient='h')"
   ]
  },
  {
   "cell_type": "code",
   "execution_count": 23,
   "id": "f732506d-80bd-40ab-b86a-d100eb853344",
   "metadata": {},
   "outputs": [
    {
     "data": {
      "text/html": [
       "<div>\n",
       "<style scoped>\n",
       "    .dataframe tbody tr th:only-of-type {\n",
       "        vertical-align: middle;\n",
       "    }\n",
       "\n",
       "    .dataframe tbody tr th {\n",
       "        vertical-align: top;\n",
       "    }\n",
       "\n",
       "    .dataframe thead th {\n",
       "        text-align: right;\n",
       "    }\n",
       "</style>\n",
       "<table border=\"1\" class=\"dataframe\">\n",
       "  <thead>\n",
       "    <tr style=\"text-align: right;\">\n",
       "      <th></th>\n",
       "      <th>Rooms</th>\n",
       "      <th>Propertycount</th>\n",
       "      <th>Distance</th>\n",
       "      <th>Bedroom2</th>\n",
       "      <th>Bathroom</th>\n",
       "      <th>Car</th>\n",
       "      <th>Landsize</th>\n",
       "      <th>BuildingArea</th>\n",
       "      <th>Price</th>\n",
       "    </tr>\n",
       "  </thead>\n",
       "  <tbody>\n",
       "    <tr>\n",
       "      <th>Rooms</th>\n",
       "      <td>1.000000</td>\n",
       "      <td>-0.069484</td>\n",
       "      <td>0.311482</td>\n",
       "      <td>0.554088</td>\n",
       "      <td>0.411772</td>\n",
       "      <td>0.348026</td>\n",
       "      <td>0.362793</td>\n",
       "      <td>-0.039481</td>\n",
       "      <td>0.464536</td>\n",
       "    </tr>\n",
       "    <tr>\n",
       "      <th>Propertycount</th>\n",
       "      <td>-0.069484</td>\n",
       "      <td>1.000000</td>\n",
       "      <td>-0.078625</td>\n",
       "      <td>-0.028384</td>\n",
       "      <td>-0.013974</td>\n",
       "      <td>-0.027420</td>\n",
       "      <td>-0.046722</td>\n",
       "      <td>0.007199</td>\n",
       "      <td>-0.010364</td>\n",
       "    </tr>\n",
       "    <tr>\n",
       "      <th>Distance</th>\n",
       "      <td>0.311482</td>\n",
       "      <td>-0.078625</td>\n",
       "      <td>1.000000</td>\n",
       "      <td>0.156576</td>\n",
       "      <td>0.100343</td>\n",
       "      <td>0.191976</td>\n",
       "      <td>0.344302</td>\n",
       "      <td>-0.025469</td>\n",
       "      <td>-0.167219</td>\n",
       "    </tr>\n",
       "    <tr>\n",
       "      <th>Bedroom2</th>\n",
       "      <td>0.554088</td>\n",
       "      <td>-0.028384</td>\n",
       "      <td>0.156576</td>\n",
       "      <td>1.000000</td>\n",
       "      <td>0.838180</td>\n",
       "      <td>0.717833</td>\n",
       "      <td>0.021490</td>\n",
       "      <td>-0.065623</td>\n",
       "      <td>0.299756</td>\n",
       "    </tr>\n",
       "    <tr>\n",
       "      <th>Bathroom</th>\n",
       "      <td>0.411772</td>\n",
       "      <td>-0.013974</td>\n",
       "      <td>0.100343</td>\n",
       "      <td>0.838180</td>\n",
       "      <td>1.000000</td>\n",
       "      <td>0.645191</td>\n",
       "      <td>-0.080908</td>\n",
       "      <td>-0.066235</td>\n",
       "      <td>0.275152</td>\n",
       "    </tr>\n",
       "    <tr>\n",
       "      <th>Car</th>\n",
       "      <td>0.348026</td>\n",
       "      <td>-0.027420</td>\n",
       "      <td>0.191976</td>\n",
       "      <td>0.717833</td>\n",
       "      <td>0.645191</td>\n",
       "      <td>1.000000</td>\n",
       "      <td>0.099695</td>\n",
       "      <td>-0.048828</td>\n",
       "      <td>0.202983</td>\n",
       "    </tr>\n",
       "    <tr>\n",
       "      <th>Landsize</th>\n",
       "      <td>0.362793</td>\n",
       "      <td>-0.046722</td>\n",
       "      <td>0.344302</td>\n",
       "      <td>0.021490</td>\n",
       "      <td>-0.080908</td>\n",
       "      <td>0.099695</td>\n",
       "      <td>1.000000</td>\n",
       "      <td>-0.004623</td>\n",
       "      <td>0.182581</td>\n",
       "    </tr>\n",
       "    <tr>\n",
       "      <th>BuildingArea</th>\n",
       "      <td>-0.039481</td>\n",
       "      <td>0.007199</td>\n",
       "      <td>-0.025469</td>\n",
       "      <td>-0.065623</td>\n",
       "      <td>-0.066235</td>\n",
       "      <td>-0.048828</td>\n",
       "      <td>-0.004623</td>\n",
       "      <td>1.000000</td>\n",
       "      <td>0.001780</td>\n",
       "    </tr>\n",
       "    <tr>\n",
       "      <th>Price</th>\n",
       "      <td>0.464536</td>\n",
       "      <td>-0.010364</td>\n",
       "      <td>-0.167219</td>\n",
       "      <td>0.299756</td>\n",
       "      <td>0.275152</td>\n",
       "      <td>0.202983</td>\n",
       "      <td>0.182581</td>\n",
       "      <td>0.001780</td>\n",
       "      <td>1.000000</td>\n",
       "    </tr>\n",
       "  </tbody>\n",
       "</table>\n",
       "</div>"
      ],
      "text/plain": [
       "                  Rooms  Propertycount  Distance  Bedroom2  Bathroom  \\\n",
       "Rooms          1.000000      -0.069484  0.311482  0.554088  0.411772   \n",
       "Propertycount -0.069484       1.000000 -0.078625 -0.028384 -0.013974   \n",
       "Distance       0.311482      -0.078625  1.000000  0.156576  0.100343   \n",
       "Bedroom2       0.554088      -0.028384  0.156576  1.000000  0.838180   \n",
       "Bathroom       0.411772      -0.013974  0.100343  0.838180  1.000000   \n",
       "Car            0.348026      -0.027420  0.191976  0.717833  0.645191   \n",
       "Landsize       0.362793      -0.046722  0.344302  0.021490 -0.080908   \n",
       "BuildingArea  -0.039481       0.007199 -0.025469 -0.065623 -0.066235   \n",
       "Price          0.464536      -0.010364 -0.167219  0.299756  0.275152   \n",
       "\n",
       "                    Car  Landsize  BuildingArea     Price  \n",
       "Rooms          0.348026  0.362793     -0.039481  0.464536  \n",
       "Propertycount -0.027420 -0.046722      0.007199 -0.010364  \n",
       "Distance       0.191976  0.344302     -0.025469 -0.167219  \n",
       "Bedroom2       0.717833  0.021490     -0.065623  0.299756  \n",
       "Bathroom       0.645191 -0.080908     -0.066235  0.275152  \n",
       "Car            1.000000  0.099695     -0.048828  0.202983  \n",
       "Landsize       0.099695  1.000000     -0.004623  0.182581  \n",
       "BuildingArea  -0.048828 -0.004623      1.000000  0.001780  \n",
       "Price          0.202983  0.182581      0.001780  1.000000  "
      ]
     },
     "execution_count": 23,
     "metadata": {},
     "output_type": "execute_result"
    }
   ],
   "source": [
    "numeric_cols=['Rooms','Propertycount','Distance','Bedroom2','Bathroom','Car','Landsize','BuildingArea',\t'Price']\n",
    "dataset[numeric_cols].corr()"
   ]
  },
  {
   "cell_type": "code",
   "execution_count": 24,
   "id": "5218b302-fb92-4d3c-88ad-9cd38c1a7042",
   "metadata": {},
   "outputs": [
    {
     "name": "stdout",
     "output_type": "stream",
     "text": [
      "(27244, 14)\n",
      "(27244, 7)\n"
     ]
    },
    {
     "data": {
      "text/html": [
       "<div>\n",
       "<style scoped>\n",
       "    .dataframe tbody tr th:only-of-type {\n",
       "        vertical-align: middle;\n",
       "    }\n",
       "\n",
       "    .dataframe tbody tr th {\n",
       "        vertical-align: top;\n",
       "    }\n",
       "\n",
       "    .dataframe thead th {\n",
       "        text-align: right;\n",
       "    }\n",
       "</style>\n",
       "<table border=\"1\" class=\"dataframe\">\n",
       "  <thead>\n",
       "    <tr style=\"text-align: right;\">\n",
       "      <th></th>\n",
       "      <th>Rooms</th>\n",
       "      <th>Distance</th>\n",
       "      <th>Bedroom2</th>\n",
       "      <th>Bathroom</th>\n",
       "      <th>Landsize</th>\n",
       "      <th>BuildingArea</th>\n",
       "      <th>Propertycount</th>\n",
       "    </tr>\n",
       "  </thead>\n",
       "  <tbody>\n",
       "    <tr>\n",
       "      <th>1</th>\n",
       "      <td>2</td>\n",
       "      <td>2.5</td>\n",
       "      <td>2.0</td>\n",
       "      <td>1.0</td>\n",
       "      <td>202.0</td>\n",
       "      <td>160.2564</td>\n",
       "      <td>4019.0</td>\n",
       "    </tr>\n",
       "    <tr>\n",
       "      <th>2</th>\n",
       "      <td>2</td>\n",
       "      <td>2.5</td>\n",
       "      <td>2.0</td>\n",
       "      <td>1.0</td>\n",
       "      <td>156.0</td>\n",
       "      <td>160.2564</td>\n",
       "      <td>4019.0</td>\n",
       "    </tr>\n",
       "    <tr>\n",
       "      <th>4</th>\n",
       "      <td>3</td>\n",
       "      <td>2.5</td>\n",
       "      <td>3.0</td>\n",
       "      <td>2.0</td>\n",
       "      <td>134.0</td>\n",
       "      <td>150.0000</td>\n",
       "      <td>4019.0</td>\n",
       "    </tr>\n",
       "    <tr>\n",
       "      <th>5</th>\n",
       "      <td>3</td>\n",
       "      <td>2.5</td>\n",
       "      <td>3.0</td>\n",
       "      <td>2.0</td>\n",
       "      <td>94.0</td>\n",
       "      <td>160.2564</td>\n",
       "      <td>4019.0</td>\n",
       "    </tr>\n",
       "    <tr>\n",
       "      <th>6</th>\n",
       "      <td>4</td>\n",
       "      <td>2.5</td>\n",
       "      <td>3.0</td>\n",
       "      <td>1.0</td>\n",
       "      <td>120.0</td>\n",
       "      <td>160.2564</td>\n",
       "      <td>4019.0</td>\n",
       "    </tr>\n",
       "  </tbody>\n",
       "</table>\n",
       "</div>"
      ],
      "text/plain": [
       "   Rooms  Distance  Bedroom2  Bathroom  Landsize  BuildingArea  Propertycount\n",
       "1      2       2.5       2.0       1.0     202.0      160.2564         4019.0\n",
       "2      2       2.5       2.0       1.0     156.0      160.2564         4019.0\n",
       "4      3       2.5       3.0       2.0     134.0      150.0000         4019.0\n",
       "5      3       2.5       3.0       2.0      94.0      160.2564         4019.0\n",
       "6      4       2.5       3.0       1.0     120.0      160.2564         4019.0"
      ]
     },
     "execution_count": 24,
     "metadata": {},
     "output_type": "execute_result"
    }
   ],
   "source": [
    "print(dataset.shape)\n",
    "dataset1_num_col = dataset.drop(['Suburb','Type', 'Method', 'SellerG','Car',\n",
    "                                 'Regionname','Price'],axis=1)\n",
    "print(dataset1_num_col.shape)\n",
    "dataset1_num_col.head()"
   ]
  },
  {
   "cell_type": "code",
   "execution_count": 25,
   "id": "820deb8e-e9bf-459d-9fe3-86f7c0d49589",
   "metadata": {},
   "outputs": [
    {
     "name": "stdout",
     "output_type": "stream",
     "text": [
      "(27244, 713)\n"
     ]
    }
   ],
   "source": [
    "dataset_cat = pd.get_dummies(dataset, drop_first=True)\n",
    "print(dataset_cat.shape)"
   ]
  },
  {
   "cell_type": "code",
   "execution_count": 26,
   "id": "cb156c4c-5478-495d-80d2-f019ec217ed3",
   "metadata": {},
   "outputs": [
    {
     "data": {
      "text/plain": [
       "(27244, 720)"
      ]
     },
     "execution_count": 26,
     "metadata": {},
     "output_type": "execute_result"
    }
   ],
   "source": [
    "dataset=pd.concat([dataset1_num_col,dataset_cat],axis=1)\n",
    "dataset.shape"
   ]
  },
  {
   "cell_type": "markdown",
   "id": "ff50a0eb-1388-4fc4-8c61-7d739b2e1595",
   "metadata": {},
   "source": [
    "## Data Standardization"
   ]
  },
  {
   "cell_type": "code",
   "execution_count": 50,
   "id": "36fa9b0c-40e6-487b-afba-67c69ad305d6",
   "metadata": {
    "tags": []
   },
   "outputs": [
    {
     "name": "stdout",
     "output_type": "stream",
     "text": [
      "(27244, 719)\n",
      "(27244,)\n"
     ]
    }
   ],
   "source": [
    "X= dataset.drop('Price',axis=1)\n",
    "y= dataset['Price']\n",
    "print(X.shape)\n",
    "print(y.shape)"
   ]
  },
  {
   "cell_type": "code",
   "execution_count": 51,
   "id": "66fa4a26-4619-4df3-af24-67bb5f7f1f79",
   "metadata": {
    "tags": []
   },
   "outputs": [],
   "source": [
    "from sklearn.preprocessing import StandardScaler\n",
    "scaler= StandardScaler()\n",
    "scaled=scaler.fit_transform(X)"
   ]
  },
  {
   "cell_type": "code",
   "execution_count": 52,
   "id": "9971d38c-40c4-45b5-a9cb-951fb63b7bf2",
   "metadata": {},
   "outputs": [],
   "source": [
    "from sklearn.model_selection import train_test_split\n",
    "x_train, x_test, y_train, y_test = train_test_split(scaled, y, test_size=0.2, random_state=40)"
   ]
  },
  {
   "cell_type": "code",
   "execution_count": 53,
   "id": "2a193a42-9325-4627-a1de-b62d9073ab33",
   "metadata": {},
   "outputs": [
    {
     "data": {
      "text/plain": [
       "(21795, 719)"
      ]
     },
     "execution_count": 53,
     "metadata": {},
     "output_type": "execute_result"
    }
   ],
   "source": [
    "x_train.shape"
   ]
  },
  {
   "cell_type": "code",
   "execution_count": 54,
   "id": "477ea7da-57fb-43c2-b691-00d21227787e",
   "metadata": {},
   "outputs": [],
   "source": [
    "from sklearn.linear_model import LinearRegression\n",
    "LR=LinearRegression().fit(x_train,y_train)\n",
    "Reg_predict_test=LR.predict(x_test)\n",
    "Reg_predict_train=LR.predict(x_train)"
   ]
  },
  {
   "cell_type": "code",
   "execution_count": 55,
   "id": "3f002d64-0fb7-4260-a6af-6b15824c4a9b",
   "metadata": {},
   "outputs": [],
   "source": [
    "from sklearn.metrics import mean_squared_error, r2_score\n",
    "mean_squared_error(y_test, Reg_predict_test)\n",
    "y_test_pred = r2_score(y_test, Reg_predict_test)\n",
    "y_train_pred = r2_score(y_train, Reg_predict_train)"
   ]
  },
  {
   "cell_type": "code",
   "execution_count": 56,
   "id": "8872f68b-d762-4812-a3d8-63c90a3800e1",
   "metadata": {},
   "outputs": [
    {
     "name": "stdout",
     "output_type": "stream",
     "text": [
      "-3.5791194449467785e+26\n",
      "0.6776533150073811\n"
     ]
    }
   ],
   "source": [
    "print(y_test_pred)\n",
    "print(y_train_pred)"
   ]
  },
  {
   "cell_type": "markdown",
   "id": "8443044e-92f5-45e6-8fd0-56312a8431a6",
   "metadata": {},
   "source": [
    "### Using Lasso(L1 reguilarized) Regression Model"
   ]
  },
  {
   "cell_type": "code",
   "execution_count": 61,
   "id": "2ba6ae91-cc87-4629-8502-c16fbd8fe1cf",
   "metadata": {},
   "outputs": [],
   "source": [
    "from sklearn.linear_model import Lasso\n",
    "lasso_reg = Lasso()\n",
    "lasso_reg.fit(x_train, y_train)\n",
    "y_predict_lasso_train =lasso_reg.predict(x_train)\n",
    "y_predict_lasso_test =lasso_reg.predict(x_test)"
   ]
  },
  {
   "cell_type": "code",
   "execution_count": 67,
   "id": "369b7249-5c21-4081-8ef1-a3944385e556",
   "metadata": {},
   "outputs": [
    {
     "data": {
      "text/plain": [
       "0.6673541511516021"
      ]
     },
     "execution_count": 67,
     "metadata": {},
     "output_type": "execute_result"
    }
   ],
   "source": [
    "lasso_reg.score(x_test,y_test)"
   ]
  },
  {
   "cell_type": "code",
   "execution_count": 68,
   "id": "c9f103b3-e38f-4e2e-99be-3b3f6291dcf6",
   "metadata": {},
   "outputs": [
    {
     "data": {
      "text/plain": [
       "0.6790460713822487"
      ]
     },
     "execution_count": 68,
     "metadata": {},
     "output_type": "execute_result"
    }
   ],
   "source": [
    "lasso_reg.score(x_train,y_train)"
   ]
  },
  {
   "cell_type": "markdown",
   "id": "887d375f-9789-4146-a240-63c6969c682c",
   "metadata": {},
   "source": [
    "### Using Ridge(L2 reguilarized) Regression Model"
   ]
  },
  {
   "cell_type": "code",
   "execution_count": 69,
   "id": "0ed89983-821d-45d2-b68e-612a56927628",
   "metadata": {},
   "outputs": [],
   "source": [
    "from sklearn.linear_model import Ridge\n",
    "ridge_reg = Ridge()\n",
    "ridge_reg.fit(x_train, y_train)\n",
    "y_predict_ridge_train = ridge_reg.predict(x_train)\n",
    "y_predict_ridge_test = ridge_reg.predict(x_test)"
   ]
  },
  {
   "cell_type": "code",
   "execution_count": 70,
   "id": "f260943a-fcb0-4813-8038-e9150267ee40",
   "metadata": {},
   "outputs": [
    {
     "data": {
      "text/plain": [
       "0.6672838035792916"
      ]
     },
     "execution_count": 70,
     "metadata": {},
     "output_type": "execute_result"
    }
   ],
   "source": [
    "ridge_reg.score(x_test,y_test)"
   ]
  },
  {
   "cell_type": "code",
   "execution_count": 71,
   "id": "ee72212b-32c8-47bc-a830-fa19f452c941",
   "metadata": {},
   "outputs": [
    {
     "data": {
      "text/plain": [
       "0.6790522449677989"
      ]
     },
     "execution_count": 71,
     "metadata": {},
     "output_type": "execute_result"
    }
   ],
   "source": [
    "ridge_reg.score(x_train,y_train)"
   ]
  },
  {
   "cell_type": "markdown",
   "id": "d9f16eea-a734-4a0d-87c1-d3d6100e6b73",
   "metadata": {},
   "source": [
    "### Using elastic(reguilarized) Regression Model"
   ]
  },
  {
   "cell_type": "code",
   "execution_count": 72,
   "id": "d1393ace-f961-418c-b6a9-938698aee506",
   "metadata": {},
   "outputs": [],
   "source": [
    "from sklearn.linear_model import ElasticNet\n",
    "en_reg = ElasticNet()\n",
    "en_reg.fit(x_train, y_train)\n",
    "y_predict_en_train = en_reg.predict(x_train)\n",
    "y_predict_en_test = en_reg.predict(x_test)"
   ]
  },
  {
   "cell_type": "code",
   "execution_count": 74,
   "id": "1ab26cd2-0afd-4594-97bf-def59367ea7c",
   "metadata": {},
   "outputs": [
    {
     "name": "stdout",
     "output_type": "stream",
     "text": [
      "0.6279826924416306\n",
      "0.6413105006524575\n"
     ]
    }
   ],
   "source": [
    "print(en_reg.score(x_test,y_test))\n",
    "print(en_reg.score(x_train,y_train))"
   ]
  },
  {
   "cell_type": "markdown",
   "id": "ddc178e8-8dbc-45b6-8790-be5a823e5e23",
   "metadata": {},
   "source": [
    "### Simple Regression Analysis"
   ]
  },
  {
   "cell_type": "code",
   "execution_count": 34,
   "id": "4c5476ef-788e-4292-874d-f4037bfb9df6",
   "metadata": {},
   "outputs": [
    {
     "data": {
      "text/plain": [
       "(27244, 720)"
      ]
     },
     "execution_count": 34,
     "metadata": {},
     "output_type": "execute_result"
    }
   ],
   "source": [
    "dataset.shape"
   ]
  },
  {
   "cell_type": "code",
   "execution_count": 35,
   "id": "d9fa88d1-21bf-49bd-9c4d-04d54ffe0ad3",
   "metadata": {},
   "outputs": [],
   "source": [
    "x = dataset['Rooms'].iloc[:,:1]"
   ]
  },
  {
   "cell_type": "code",
   "execution_count": 36,
   "id": "fd7cc505-a5a8-4a9f-899c-93c1fae7dd3b",
   "metadata": {},
   "outputs": [],
   "source": [
    "y = dataset['Price']"
   ]
  },
  {
   "cell_type": "code",
   "execution_count": 37,
   "id": "c60a18a2-d90e-4573-8e04-e48976a10bf3",
   "metadata": {},
   "outputs": [
    {
     "data": {
      "text/plain": [
       "(27244, 1)"
      ]
     },
     "execution_count": 37,
     "metadata": {},
     "output_type": "execute_result"
    }
   ],
   "source": [
    "x.shape"
   ]
  },
  {
   "cell_type": "code",
   "execution_count": 38,
   "id": "ed98128b-e687-4977-adf9-8c558b17eb8e",
   "metadata": {},
   "outputs": [],
   "source": [
    "scaled=scaler.fit_transform(x)"
   ]
  },
  {
   "cell_type": "code",
   "execution_count": 39,
   "id": "49bf66ee-87e6-4fcc-9ada-98b4983c1a02",
   "metadata": {},
   "outputs": [],
   "source": [
    "from sklearn.model_selection import train_test_split\n",
    "x_train, x_test, y_train, y_test = train_test_split(scaled, y, test_size=0.2, random_state=40)"
   ]
  },
  {
   "cell_type": "code",
   "execution_count": 40,
   "id": "14ba5cfd-e614-4acf-a4dc-b93ecadb5ddf",
   "metadata": {},
   "outputs": [],
   "source": [
    "from sklearn.linear_model import LinearRegression\n",
    "SLR=LinearRegression().fit(x_train,y_train)\n",
    "SLR_predict_test=SLR.predict(x_test)\n",
    "SLR_predict_train=SLR.predict(x_train)"
   ]
  },
  {
   "cell_type": "markdown",
   "id": "94ec4192-83af-4995-9979-613d44d8f5de",
   "metadata": {
    "scrolled": true
   },
   "source": [
    "LR.fit(x_train,y_train)"
   ]
  },
  {
   "cell_type": "code",
   "execution_count": 41,
   "id": "3b86da06-b134-4170-b130-1d919d9a8c72",
   "metadata": {},
   "outputs": [],
   "source": [
    "from sklearn.metrics import mean_squared_error, r2_score\n",
    "mean_squared_error(y_test, Reg_predict_test)\n",
    "y_test_pred_SRL = r2_score(y_test, SLR_predict_test)\n",
    "y_train_pred_SLR = r2_score(y_train, SLR_predict_train)"
   ]
  },
  {
   "cell_type": "code",
   "execution_count": 42,
   "id": "dcf558fe-f97d-4ce3-bc59-f042a4c45dcc",
   "metadata": {},
   "outputs": [
    {
     "name": "stdout",
     "output_type": "stream",
     "text": [
      "0.20903108291078887\n",
      "0.21747225615327836\n"
     ]
    }
   ],
   "source": [
    "print(y_test_pred_SRL)\n",
    "print(y_train_pred_SLR)"
   ]
  }
 ],
 "metadata": {
  "kernelspec": {
   "display_name": "Python 3 (ipykernel)",
   "language": "python",
   "name": "python3"
  },
  "language_info": {
   "codemirror_mode": {
    "name": "ipython",
    "version": 3
   },
   "file_extension": ".py",
   "mimetype": "text/x-python",
   "name": "python",
   "nbconvert_exporter": "python",
   "pygments_lexer": "ipython3",
   "version": "3.11.5"
  }
 },
 "nbformat": 4,
 "nbformat_minor": 5
}
